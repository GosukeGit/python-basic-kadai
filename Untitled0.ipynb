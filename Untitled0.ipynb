{
  "nbformat": 4,
  "nbformat_minor": 0,
  "metadata": {
    "colab": {
      "provenance": []
    },
    "kernelspec": {
      "name": "python3",
      "display_name": "Python 3"
    },
    "language_info": {
      "name": "python"
    }
  },
  "cells": [
    {
      "cell_type": "code",
      "execution_count": null,
      "metadata": {
        "colab": {
          "base_uri": "https://localhost:8080/"
        },
        "id": "psquoV2yAIbv",
        "outputId": "5ecf4721-6904-4027-8d68-d001865e03b3"
      },
      "outputs": [
        {
          "output_type": "stream",
          "name": "stdout",
          "text": [
            "63\n",
            "18\n",
            "90\n",
            "<class 'float'>\n",
            "5\n"
          ]
        }
      ],
      "source": [
        "print(45 + 18)\n",
        "print(30 - 12)\n",
        "print(15 * 6)\n",
        "print(type(30 / 3))\n",
        "print(45 % 8)"
      ]
    },
    {
      "cell_type": "code",
      "source": [],
      "metadata": {
        "id": "YyRtPmqDGd3B"
      },
      "execution_count": null,
      "outputs": []
    },
    {
      "cell_type": "code",
      "source": [
        "print(45 + 1.8)\n",
        "print(3 -1.2)\n",
        "print(15 * 0.6)\n",
        "print(3 / 0.3)\n",
        "print(45 % 0.8)"
      ],
      "metadata": {
        "colab": {
          "base_uri": "https://localhost:8080/"
        },
        "id": "r4rjXFcJCo0O",
        "outputId": "0800461b-ea8e-4d7c-d1b7-8b0c299641f7"
      },
      "execution_count": null,
      "outputs": [
        {
          "output_type": "stream",
          "name": "stdout",
          "text": [
            "46.8\n",
            "1.8\n",
            "9.0\n",
            "10.0\n",
            "0.1999999999999975\n"
          ]
        }
      ]
    },
    {
      "cell_type": "code",
      "source": [],
      "metadata": {
        "id": "KD607UUEGgwM"
      },
      "execution_count": null,
      "outputs": []
    },
    {
      "cell_type": "code",
      "source": [
        "print(\"今日の天気は\"+\"晴れ\")\n",
        "print(\"今日の天気は\"\"曇り\")"
      ],
      "metadata": {
        "colab": {
          "base_uri": "https://localhost:8080/"
        },
        "id": "8NsFIWvOC5-c",
        "outputId": "4680a019-a44c-4660-d72d-db82c13cda7b"
      },
      "execution_count": null,
      "outputs": [
        {
          "output_type": "stream",
          "name": "stdout",
          "text": [
            "今日の天気は晴れ\n",
            "今日の天気は曇り\n"
          ]
        }
      ]
    },
    {
      "cell_type": "code",
      "source": [
        "print(\"降水確率\"+str(50)+\"%\")"
      ],
      "metadata": {
        "colab": {
          "base_uri": "https://localhost:8080/"
        },
        "id": "SNjumq3gDa2S",
        "outputId": "54f375f9-94e2-4b9c-d341-0128b9f3bc6d"
      },
      "execution_count": null,
      "outputs": [
        {
          "output_type": "stream",
          "name": "stdout",
          "text": [
            "降水確率50%\n"
          ]
        }
      ]
    },
    {
      "cell_type": "code",
      "source": [
        "user_name = \"侍太郎\"\n",
        "print(user_name)"
      ],
      "metadata": {
        "colab": {
          "base_uri": "https://localhost:8080/"
        },
        "id": "s2Tf_nOaGhlC",
        "outputId": "61f0a747-a285-4474-dee8-96deca944a16"
      },
      "execution_count": null,
      "outputs": [
        {
          "output_type": "stream",
          "name": "stdout",
          "text": [
            "侍太郎\n"
          ]
        }
      ]
    },
    {
      "cell_type": "code",
      "source": [
        "user_name = \"侍太郎\"\n",
        "print(user_name)\n",
        "\n",
        "user_name = \"侍花子\"\n",
        "print(user_name)"
      ],
      "metadata": {
        "colab": {
          "base_uri": "https://localhost:8080/"
        },
        "id": "5OMP7to0G2rb",
        "outputId": "ce500b19-bac2-45fd-cf13-7a30e271ee52"
      },
      "execution_count": null,
      "outputs": [
        {
          "output_type": "stream",
          "name": "stdout",
          "text": [
            "侍太郎\n",
            "侍花子\n"
          ]
        }
      ]
    },
    {
      "cell_type": "code",
      "source": [
        "# 整数型と浮動小数点型の足し算\n",
        "number1 = 5\n",
        "number2 = 2.5\n",
        "print(number1 + number2)\n",
        "\n",
        "# 文字列型と文字列型の連結\n",
        "last_name  = \"侍\"\n",
        "first_name = \"太郎\"\n",
        "print(last_name + first_name)\n"
      ],
      "metadata": {
        "colab": {
          "base_uri": "https://localhost:8080/"
        },
        "id": "PH11JY_QHMGD",
        "outputId": "9ccae588-058a-43fa-cc27-84bed4c8e620"
      },
      "execution_count": null,
      "outputs": [
        {
          "output_type": "stream",
          "name": "stdout",
          "text": [
            "7.5\n",
            "侍太郎\n"
          ]
        }
      ]
    },
    {
      "cell_type": "code",
      "source": [
        "last_name   = \"侍\"\n",
        "first_name  = \"太郎\"\n",
        "sister_name = \"花子\"\n",
        "\n",
        "# 3つの変数を文字列内に埋め込んで表示\n",
        "print(f\"私の名前は{last_name}{first_name}です。妹の名前は{sister_name}です。\")\n"
      ],
      "metadata": {
        "colab": {
          "base_uri": "https://localhost:8080/"
        },
        "id": "AjUBkkI_Hhgc",
        "outputId": "0b5737a8-5238-4d43-bc93-ef2beb3f0937"
      },
      "execution_count": null,
      "outputs": [
        {
          "output_type": "stream",
          "name": "stdout",
          "text": [
            "私の名前は侍太郎です。妹の名前は花子です。\n"
          ]
        }
      ]
    },
    {
      "cell_type": "code",
      "source": [
        "top_side = \"10cm\"\n",
        "low_side = \"20cm\"\n",
        "height = \"5cm\"\n",
        "\n",
        "# 単位を取り除き、整数に変換する\n",
        "top_side = int(top_side.replace(\"cm\", \"\"))\n",
        "low_side = int(low_side.replace(\"cm\", \"\"))\n",
        "height = int(height.replace(\"cm\", \"\"))\n",
        "\n",
        "# 台形の面積の公式を適用する\n",
        "area = (top_side + low_side) * height / 2\n",
        "\n",
        "# 結果を \"cm\" 単位で表示\n",
        "print(f\"{area} cm²\")\n"
      ],
      "metadata": {
        "colab": {
          "base_uri": "https://localhost:8080/"
        },
        "id": "BetChPD_SDeV",
        "outputId": "3397aca5-ae23-471e-9316-b69e0b9fc375"
      },
      "execution_count": 3,
      "outputs": [
        {
          "output_type": "stream",
          "name": "stdout",
          "text": [
            "75.0 cm²\n"
          ]
        }
      ]
    }
  ]
}