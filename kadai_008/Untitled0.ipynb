{
  "nbformat": 4,
  "nbformat_minor": 0,
  "metadata": {
    "colab": {
      "provenance": []
    },
    "kernelspec": {
      "name": "python3",
      "display_name": "Python 3"
    },
    "language_info": {
      "name": "python"
    }
  },
  "cells": [
    {
      "cell_type": "code",
      "execution_count": null,
      "metadata": {
        "colab": {
          "base_uri": "https://localhost:8080/"
        },
        "id": "psquoV2yAIbv",
        "outputId": "5ecf4721-6904-4027-8d68-d001865e03b3"
      },
      "outputs": [
        {
          "output_type": "stream",
          "name": "stdout",
          "text": [
            "63\n",
            "18\n",
            "90\n",
            "<class 'float'>\n",
            "5\n"
          ]
        }
      ],
      "source": [
        "print(45 + 18)\n",
        "print(30 - 12)\n",
        "print(15 * 6)\n",
        "print(type(30 / 3))\n",
        "print(45 % 8)"
      ]
    },
    {
      "cell_type": "code",
      "source": [],
      "metadata": {
        "id": "yrcVztgfMZOQ"
      },
      "execution_count": null,
      "outputs": []
    },
    {
      "cell_type": "code",
      "source": [],
      "metadata": {
        "id": "YyRtPmqDGd3B"
      },
      "execution_count": null,
      "outputs": []
    },
    {
      "cell_type": "code",
      "source": [
        "print(45 + 1.8)\n",
        "print(3 -1.2)\n",
        "print(15 * 0.6)\n",
        "print(3 / 0.3)\n",
        "print(45 % 0.8)"
      ],
      "metadata": {
        "colab": {
          "base_uri": "https://localhost:8080/"
        },
        "id": "r4rjXFcJCo0O",
        "outputId": "0800461b-ea8e-4d7c-d1b7-8b0c299641f7"
      },
      "execution_count": null,
      "outputs": [
        {
          "output_type": "stream",
          "name": "stdout",
          "text": [
            "46.8\n",
            "1.8\n",
            "9.0\n",
            "10.0\n",
            "0.1999999999999975\n"
          ]
        }
      ]
    },
    {
      "cell_type": "code",
      "source": [],
      "metadata": {
        "id": "KD607UUEGgwM"
      },
      "execution_count": null,
      "outputs": []
    },
    {
      "cell_type": "code",
      "source": [
        "print(\"今日の天気は\"+\"晴れ\")\n",
        "print(\"今日の天気は\"\"曇り\")"
      ],
      "metadata": {
        "colab": {
          "base_uri": "https://localhost:8080/"
        },
        "id": "8NsFIWvOC5-c",
        "outputId": "4680a019-a44c-4660-d72d-db82c13cda7b"
      },
      "execution_count": null,
      "outputs": [
        {
          "output_type": "stream",
          "name": "stdout",
          "text": [
            "今日の天気は晴れ\n",
            "今日の天気は曇り\n"
          ]
        }
      ]
    },
    {
      "cell_type": "code",
      "source": [
        "print(\"降水確率\"+str(50)+\"%\")"
      ],
      "metadata": {
        "colab": {
          "base_uri": "https://localhost:8080/"
        },
        "id": "SNjumq3gDa2S",
        "outputId": "54f375f9-94e2-4b9c-d341-0128b9f3bc6d"
      },
      "execution_count": null,
      "outputs": [
        {
          "output_type": "stream",
          "name": "stdout",
          "text": [
            "降水確率50%\n"
          ]
        }
      ]
    },
    {
      "cell_type": "code",
      "source": [
        "user_name = \"侍太郎\"\n",
        "print(user_name)"
      ],
      "metadata": {
        "colab": {
          "base_uri": "https://localhost:8080/"
        },
        "id": "s2Tf_nOaGhlC",
        "outputId": "61f0a747-a285-4474-dee8-96deca944a16"
      },
      "execution_count": null,
      "outputs": [
        {
          "output_type": "stream",
          "name": "stdout",
          "text": [
            "侍太郎\n"
          ]
        }
      ]
    },
    {
      "cell_type": "code",
      "source": [
        "user_name = \"侍太郎\"\n",
        "print(user_name)\n",
        "\n",
        "user_name = \"侍花子\"\n",
        "print(user_name)"
      ],
      "metadata": {
        "colab": {
          "base_uri": "https://localhost:8080/"
        },
        "id": "5OMP7to0G2rb",
        "outputId": "ce500b19-bac2-45fd-cf13-7a30e271ee52"
      },
      "execution_count": null,
      "outputs": [
        {
          "output_type": "stream",
          "name": "stdout",
          "text": [
            "侍太郎\n",
            "侍花子\n"
          ]
        }
      ]
    },
    {
      "cell_type": "code",
      "source": [
        "# 整数型と浮動小数点型の足し算\n",
        "number1 = 5\n",
        "number2 = 2.5\n",
        "print(number1 + number2)\n",
        "\n",
        "# 文字列型と文字列型の連結\n",
        "last_name  = \"侍\"\n",
        "first_name = \"太郎\"\n",
        "print(last_name + first_name)\n"
      ],
      "metadata": {
        "colab": {
          "base_uri": "https://localhost:8080/"
        },
        "id": "PH11JY_QHMGD",
        "outputId": "9ccae588-058a-43fa-cc27-84bed4c8e620"
      },
      "execution_count": null,
      "outputs": [
        {
          "output_type": "stream",
          "name": "stdout",
          "text": [
            "7.5\n",
            "侍太郎\n"
          ]
        }
      ]
    },
    {
      "cell_type": "code",
      "source": [
        "last_name   = \"侍\"\n",
        "first_name  = \"太郎\"\n",
        "sister_name = \"花子\"\n",
        "\n",
        "# 3つの変数を文字列内に埋め込んで表示\n",
        "print(f\"私の名前は{last_name}{first_name}です。妹の名前は{sister_name}です。\")\n"
      ],
      "metadata": {
        "colab": {
          "base_uri": "https://localhost:8080/"
        },
        "id": "AjUBkkI_Hhgc",
        "outputId": "0b5737a8-5238-4d43-bc93-ef2beb3f0937"
      },
      "execution_count": null,
      "outputs": [
        {
          "output_type": "stream",
          "name": "stdout",
          "text": [
            "私の名前は侍太郎です。妹の名前は花子です。\n"
          ]
        }
      ]
    },
    {
      "cell_type": "code",
      "source": [
        "top_side = \"10cm\"\n",
        "low_side = \"20cm\"\n",
        "height = \"5cm\"\n",
        "\n",
        "# 単位を取り除き、整数に変換する\n",
        "top_side = int(top_side.replace(\"cm\", \"\"))\n",
        "low_side = int(low_side.replace(\"cm\", \"\"))\n",
        "height = int(height.replace(\"cm\", \"\"))\n",
        "\n",
        "# 台形の面積の公式を適用する\n",
        "area = (top_side + low_side) * height / 2\n",
        "\n",
        "# 結果を \"cm\" 単位で表示\n",
        "print(f\"{area} cm²\")\n"
      ],
      "metadata": {
        "colab": {
          "base_uri": "https://localhost:8080/"
        },
        "id": "BetChPD_SDeV",
        "outputId": "3397aca5-ae23-471e-9316-b69e0b9fc375"
      },
      "execution_count": null,
      "outputs": [
        {
          "output_type": "stream",
          "name": "stdout",
          "text": [
            "75.0 cm²\n"
          ]
        }
      ]
    },
    {
      "cell_type": "code",
      "source": [
        "user_names = [\"侍太郎\", \"侍一郎\", \"侍二郎\", \"侍三郎\", \"侍四郎\"]\n",
        "print(user_names[1])\n",
        "\n",
        "user_names[1] = \"侍花子\"\n",
        "print(user_names)\n",
        "\n",
        "user_names.append(\"侍五郎\")\n",
        "print(user_names)\n",
        "\n",
        "user_names.pop(2)\n",
        "print(user_names)"
      ],
      "metadata": {
        "colab": {
          "base_uri": "https://localhost:8080/"
        },
        "id": "IPdt5t9CCsYs",
        "outputId": "f578aa4b-859f-4c33-fe85-df7caa8ffc9d"
      },
      "execution_count": null,
      "outputs": [
        {
          "output_type": "stream",
          "name": "stdout",
          "text": [
            "侍一郎\n",
            "['侍太郎', '侍花子', '侍二郎', '侍三郎', '侍四郎']\n",
            "['侍太郎', '侍花子', '侍二郎', '侍三郎', '侍四郎', '侍五郎']\n",
            "['侍太郎', '侍花子', '侍三郎', '侍四郎', '侍五郎']\n"
          ]
        }
      ]
    },
    {
      "cell_type": "code",
      "source": [
        "country_names = (\"日本\", \"アメリカ\", \"イギリス\", \"フランス\")\n",
        "\n",
        "print(country_names[2])\n",
        "\n",
        "print(country_names)"
      ],
      "metadata": {
        "colab": {
          "base_uri": "https://localhost:8080/"
        },
        "id": "ivuN-bW2ERBg",
        "outputId": "eca25d85-bf40-4e57-d1b5-9c2cb9890172"
      },
      "execution_count": null,
      "outputs": [
        {
          "output_type": "stream",
          "name": "stdout",
          "text": [
            "イギリス\n",
            "('日本', 'アメリカ', 'イギリス', 'フランス')\n"
          ]
        }
      ]
    },
    {
      "cell_type": "code",
      "source": [
        "# 1～10までに含まれる素数のセット\n",
        "prime_numbers = {2, 3, 5, 7}\n",
        "\n",
        "# セット全体を表示\n",
        "print(prime_numbers)\n",
        "\n",
        "prime_numbers.add(10)\n",
        "prime_numbers.remove(2)\n",
        "print(prime_numbers)"
      ],
      "metadata": {
        "colab": {
          "base_uri": "https://localhost:8080/"
        },
        "id": "pHNm7Jc7FidH",
        "outputId": "36f2ceb2-7b19-4a88-b79d-6bc5cb7b1cc5"
      },
      "execution_count": null,
      "outputs": [
        {
          "output_type": "stream",
          "name": "stdout",
          "text": [
            "{2, 3, 5, 7}\n",
            "{3, 5, 7, 10}\n"
          ]
        }
      ]
    },
    {
      "cell_type": "code",
      "source": [
        "country_names = {\"アメリカ\", \"イギリス\", \"日本\", \"フランス\"}\n",
        "\n",
        "print(country_names)\n",
        "\n",
        "country_names.add(\"ドイツ\")\n",
        "print(country_names)\n",
        "\n",
        "country_names.remove(\"イギリス\")\n",
        "print(country_names)"
      ],
      "metadata": {
        "colab": {
          "base_uri": "https://localhost:8080/"
        },
        "id": "vdHo9x2rGefj",
        "outputId": "6c5f1b86-e95a-442a-d1a8-1cb6e6874b5c"
      },
      "execution_count": null,
      "outputs": [
        {
          "output_type": "stream",
          "name": "stdout",
          "text": [
            "{'フランス', 'イギリス', '日本', 'アメリカ'}\n",
            "{'ドイツ', 'イギリス', '日本', 'アメリカ', 'フランス'}\n",
            "{'ドイツ', '日本', 'アメリカ', 'フランス'}\n"
          ]
        }
      ]
    },
    {
      "cell_type": "code",
      "source": [
        "personal_data = {\"name\":\"侍太郎\", \"age\":36, \"gender\":\"男性\"}\n",
        "print(personal_data[\"name\"])\n",
        "\n",
        "print(personal_data)\n",
        "\n",
        "personal_data[\"age\"]=37\n",
        "\n",
        "personal_data[\"address\"]=\"東京都\"\n",
        "\n",
        "print(personal_data)"
      ],
      "metadata": {
        "colab": {
          "base_uri": "https://localhost:8080/"
        },
        "id": "-uO1RZvsMa6V",
        "outputId": "8999e3b2-840d-4dc9-8e8b-329878051e86"
      },
      "execution_count": null,
      "outputs": [
        {
          "output_type": "stream",
          "name": "stdout",
          "text": [
            "侍太郎\n",
            "{'name': '侍太郎', 'age': 36, 'gender': '男性'}\n",
            "{'name': '侍太郎', 'age': 37, 'gender': '男性', 'address': '東京都'}\n"
          ]
        }
      ]
    },
    {
      "cell_type": "code",
      "source": [
        "array= [\"月曜日は晴れです\", \"火曜日は雨です\", \"水曜日は晴れです\", \"木曜日は晴れです\", \"金曜日は曇りです\", \"土曜日は曇りのち雨です\", \"日曜日は雷雨です\"]\n",
        "print(array[2])"
      ],
      "metadata": {
        "colab": {
          "base_uri": "https://localhost:8080/"
        },
        "id": "aOV8ABMGrErc",
        "outputId": "7bf5935c-a30e-46e4-a9ad-f13f0c5e7bf9"
      },
      "execution_count": null,
      "outputs": [
        {
          "output_type": "stream",
          "name": "stdout",
          "text": [
            "水曜日は晴れです\n"
          ]
        }
      ]
    },
    {
      "cell_type": "code",
      "source": [
        "dictionary={\"mon\":\"晴れ\",\"tue\":\"雨\",\"wed\":\"晴れ\",\"thu\":\"晴れ\",\"fri\":\"曇り\",\"sat\":\"曇りのち雨\",\"sun\":\"雷雨\"}\n",
        "print(dictionary[\"wed\"])"
      ],
      "metadata": {
        "colab": {
          "base_uri": "https://localhost:8080/"
        },
        "id": "J74qmsvgrpcq",
        "outputId": "50c31432-4cdb-44f7-b270-1a252a5a583f"
      },
      "execution_count": null,
      "outputs": [
        {
          "output_type": "stream",
          "name": "stdout",
          "text": [
            "晴れ\n"
          ]
        }
      ]
    },
    {
      "cell_type": "code",
      "source": [
        "print(45 + 18) # 算術演算子を使った場合の戻り値を出力する\n",
        "print(45 > 18) # 比較演算子を使った場合の戻り値を出力する\n"
      ],
      "metadata": {
        "colab": {
          "base_uri": "https://localhost:8080/"
        },
        "id": "h2G6fTG05UlW",
        "outputId": "51f7db54-f248-467c-e657-7b16e0b6fa90"
      },
      "execution_count": null,
      "outputs": [
        {
          "output_type": "stream",
          "name": "stdout",
          "text": [
            "63\n",
            "False\n"
          ]
        }
      ]
    },
    {
      "cell_type": "code",
      "source": [
        "print (\"5\" ==\"5\")"
      ],
      "metadata": {
        "colab": {
          "base_uri": "https://localhost:8080/"
        },
        "id": "vCji1wEZ6CoX",
        "outputId": "9a5e8b88-d1ad-489d-a28c-0381075fdfab"
      },
      "execution_count": null,
      "outputs": [
        {
          "output_type": "stream",
          "name": "stdout",
          "text": [
            "True\n"
          ]
        }
      ]
    },
    {
      "cell_type": "code",
      "source": [
        "import random\n",
        "num =random.randint(0,4)\n",
        "print(num)\n",
        "if num == 4:\n",
        "  print(\"大当たりです\")\n",
        "else:\n",
        "  print(\"はずれです\")"
      ],
      "metadata": {
        "colab": {
          "base_uri": "https://localhost:8080/"
        },
        "id": "tdp3hWZvaYeD",
        "outputId": "9018049b-b82e-4011-ec0c-c9b0d0307d6c"
      },
      "execution_count": null,
      "outputs": [
        {
          "output_type": "stream",
          "name": "stdout",
          "text": [
            "3\n",
            "はずれです\n"
          ]
        }
      ]
    },
    {
      "cell_type": "code",
      "source": [
        "import random\n",
        "num =random.randint(0,4)\n",
        "print (num)\n",
        "if 1 < num and num <3:\n",
        "  print(\"変数numは1より大きく、3より小さいです\")\n",
        "else:\n",
        "  print(\"and条件が成り立ちませんでした\")\n",
        "\n",
        "if num == 1 or num == 3:\n",
        "  print(\"変数numは1または3です\")\n",
        "else:\n",
        "  print(\"or条件が成り立ちませんでした\")"
      ],
      "metadata": {
        "colab": {
          "base_uri": "https://localhost:8080/"
        },
        "id": "RBx1OiZXbv-G",
        "outputId": "fcb2dfd0-fff1-456c-bde1-84db0238781b"
      },
      "execution_count": null,
      "outputs": [
        {
          "output_type": "stream",
          "name": "stdout",
          "text": [
            "2\n",
            "変数numは1より大きく、3より小さいです\n",
            "or条件が成り立ちませんでした\n"
          ]
        }
      ]
    },
    {
      "cell_type": "code",
      "source": [
        "var = 10\n",
        "\n",
        "if var % 3 == 0 and var % 5 == 0:\n",
        "    print(\"FizzBuzz\")\n",
        "elif var % 3 == 0:\n",
        "    print(\"Fizz\")\n",
        "elif var % 5 == 0:\n",
        "    print(\"Buzz\")\n",
        "else:\n",
        "    print(var)"
      ],
      "metadata": {
        "colab": {
          "base_uri": "https://localhost:8080/"
        },
        "id": "kaK27jQKxI3I",
        "outputId": "614f43ef-eaf3-421e-d7bd-ae9b6b58cd41"
      },
      "execution_count": 7,
      "outputs": [
        {
          "output_type": "stream",
          "name": "stdout",
          "text": [
            "Buzz\n"
          ]
        }
      ]
    }
  ]
}